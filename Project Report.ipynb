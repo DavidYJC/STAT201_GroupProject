{
 "cells": [
  {
   "cell_type": "markdown",
   "metadata": {},
   "source": [
    "# Home Field Advantage and Team Performances In the NFL\n",
    "\n",
    "By: Braden Sunderland, Darryl Ma, David Yuan, Zelalem Araya\n",
    "## Introduction and Background Knowledge\n",
    "\n",
    "In the NFL, the most elite professional American Football league in the world, it is natural to assume that the home teams would perform much better than the away team. This is due to many extraneous factors outside of the field, such as crowd involvement, travel and logistical considerations, and familiarity to the environment and weather conditions.\n",
    " <br>\n",
    "<br>\n",
    "For instance, crowd involvement during a NFL game is one of the highest in the world with an average attendance of 66,479 per game during 2019 (Gough, 2021). In conjunction, home teams need not concern themselves with the logistics of transportation, and will be more adapted to the local environmental conditions.\n",
    "<br>\n",
    "<br>\n",
    "However, despite the natural presupposition, many prominent sport journalists  question whether playing at home has any influence on the performances in the NFL at all. For instance: Fox Sports speculating that home field barely provides favours in betting odds (Panayotovich, 2021), and The Score doubts whether home-field advantage still exists in the NFL (Cosentino, 2021).\n",
    " <br>\n",
    "<br>\n",
    "This report aims to examine how NFL teams perform in their home and away games using the dataset created by David Sasser on the 2010 to 2019 season (sourced from Pro Football Reference). Analysis and testing will be performed on the offensive and turnover statistics to answer the question: **Does playing on a team's home field have an affect on team's performance in the NFL?**\n"
   ]
  },
  {
   "cell_type": "markdown",
   "metadata": {},
   "source": [
    "## Analysis Methods / Approach\n",
    "To answer the question stated, the hypothesis testing method will be used with the following hypotheses:\n",
    "<br>\n",
    " - The null hypothesis: Being the home team does not have an effect on team performance.<br>\n",
    " - The alternative hypothesis: Being the home team has an effect on team performance.\n",
    "\n",
    "For the situation of our analysis, we will treat a specific team’s performance during a specific season as an entry in our revised dataset. \n",
    "\n",
    "General “team performance” can be quantified in the dataset by observing passing and rushing yards, rushing attempts, points scored, winning percentage, turnovers, and points against. We will create  “delta values” (the difference between the mean home figures and the away figures) for each of the aforementioned metrics. Afterwards, separate hypothesis tests will be conducted. For instance: \n",
    "\n",
    "Passing Yards Hypothesis Test : <br>\n",
    "Delta_pass_yards = difference in mean passing yards in home games and mean passing yards in away games for a given team (defined as a specific team in a specific season).\n",
    " - H0: Delta_pass_yards = 0\n",
    " - Ha: Delta_pass_yards ≠ 0 <br>\n",
    "\n",
    "Similar hypothesis tests will be conducted for each of the metrics we are using. By measuring the difference between the means of each metric, we will be able to determine whether each one is statistically significant, meaning it is likely to have an effect on team performance. \n"
   ]
  },
  {
   "cell_type": "markdown",
   "metadata": {},
   "source": [
    "## Preliminary Exploratory Data Analysis (Will be replaced by Data Analysis itself)\n",
    "\n",
    "The data set is first loaded in directly from the online database, then tidied and organized by grouping similar categorical variables into a single variable. "
   ]
  },
  {
   "cell_type": "code",
   "execution_count": 2,
   "metadata": {},
   "outputs": [],
   "source": [
    "# Load necessary packages\n",
    "library(cowplot)\n",
    "library(digest)\n",
    "library(infer)\n",
    "library(repr)\n",
    "library(taxyvr)\n",
    "library(tidyverse)\n",
    "library(dplyr)\n",
    "\n",
    "# Downloaded dataset from https://www.kaggle.com/davidsasser/nfl-game-stats-20102019/download\n",
    "nfl_2015 <- read_csv('https://drive.google.com/u/0/uc?id=190TJIdeGAn35LYTkuLiNljLC_UdvFPI6&export=download', show_col_types=FALSE)\n",
    "nfl_2016 <- read_csv('https://drive.google.com/u/0/uc?id=1MzBKQAow-lSygJzvraebnjwKTl4RIAC4&export=download', show_col_types=FALSE)\n",
    "nfl_2017 <- read_csv('https://drive.google.com/u/0/uc?id=1UsXj9jItQik0UXbeCtnzQ7ES3GoZepiy&export=download', show_col_types=FALSE)\n",
    "nfl_2018 <- read_csv('https://drive.google.com/u/0/uc?id=1UqvsJYxQ0NHPApWSSWKvtVguaTH2PnGl&export=download', show_col_types=FALSE)\n",
    "nfl_2019 <- read_csv('https://drive.google.com/u/0/uc?id=1EVGagzG12fsneqmVTWk5SwbJqi59RoD4&export=download', show_col_types=FALSE)"
   ]
  },
  {
   "cell_type": "code",
   "execution_count": 3,
   "metadata": {},
   "outputs": [
    {
     "data": {
      "text/html": [
       "<table class=\"dataframe\">\n",
       "<caption>A grouped_df: 6 × 15</caption>\n",
       "<thead>\n",
       "\t<tr><th scope=col>Year</th><th scope=col>Week</th><th scope=col>HomeTeam</th><th scope=col>AwayTeam</th><th scope=col>H.RushAtt</th><th scope=col>H.RushYards</th><th scope=col>H.PassYards</th><th scope=col>H.Turnover</th><th scope=col>H.Score</th><th scope=col>A.RushAtt</th><th scope=col>A.RushYards</th><th scope=col>A.PassYards</th><th scope=col>A.Turnover</th><th scope=col>A.Score</th><th scope=col>gameResult</th></tr>\n",
       "\t<tr><th scope=col>&lt;dbl&gt;</th><th scope=col>&lt;dbl&gt;</th><th scope=col>&lt;chr&gt;</th><th scope=col>&lt;chr&gt;</th><th scope=col>&lt;dbl&gt;</th><th scope=col>&lt;dbl&gt;</th><th scope=col>&lt;dbl&gt;</th><th scope=col>&lt;dbl&gt;</th><th scope=col>&lt;dbl&gt;</th><th scope=col>&lt;dbl&gt;</th><th scope=col>&lt;dbl&gt;</th><th scope=col>&lt;dbl&gt;</th><th scope=col>&lt;dbl&gt;</th><th scope=col>&lt;dbl&gt;</th><th scope=col>&lt;chr&gt;</th></tr>\n",
       "</thead>\n",
       "<tbody>\n",
       "\t<tr><td>2015</td><td>1</td><td>NWE</td><td>PIT</td><td>24</td><td> 80</td><td>288</td><td>0</td><td>28</td><td>25</td><td>134</td><td>351</td><td>1</td><td>21</td><td>W</td></tr>\n",
       "\t<tr><td>2015</td><td>1</td><td>BUF</td><td>IND</td><td>36</td><td>147</td><td>195</td><td>0</td><td>27</td><td>17</td><td> 64</td><td>243</td><td>3</td><td>14</td><td>W</td></tr>\n",
       "\t<tr><td>2015</td><td>1</td><td>CHI</td><td>GNB</td><td>33</td><td>189</td><td>225</td><td>1</td><td>23</td><td>30</td><td>133</td><td>189</td><td>0</td><td>31</td><td>L</td></tr>\n",
       "\t<tr><td>2015</td><td>1</td><td>ARI</td><td>NOR</td><td>25</td><td>120</td><td>307</td><td>1</td><td>31</td><td>20</td><td> 54</td><td>355</td><td>1</td><td>19</td><td>W</td></tr>\n",
       "\t<tr><td>2015</td><td>1</td><td>DAL</td><td>NYG</td><td>23</td><td> 80</td><td>356</td><td>3</td><td>27</td><td>24</td><td> 99</td><td>189</td><td>0</td><td>26</td><td>W</td></tr>\n",
       "\t<tr><td>2015</td><td>1</td><td>DEN</td><td>BAL</td><td>25</td><td> 69</td><td>175</td><td>1</td><td>19</td><td>23</td><td> 73</td><td>117</td><td>2</td><td>13</td><td>W</td></tr>\n",
       "</tbody>\n",
       "</table>\n"
      ],
      "text/latex": [
       "A grouped\\_df: 6 × 15\n",
       "\\begin{tabular}{lllllllllllllll}\n",
       " Year & Week & HomeTeam & AwayTeam & H.RushAtt & H.RushYards & H.PassYards & H.Turnover & H.Score & A.RushAtt & A.RushYards & A.PassYards & A.Turnover & A.Score & gameResult\\\\\n",
       " <dbl> & <dbl> & <chr> & <chr> & <dbl> & <dbl> & <dbl> & <dbl> & <dbl> & <dbl> & <dbl> & <dbl> & <dbl> & <dbl> & <chr>\\\\\n",
       "\\hline\n",
       "\t 2015 & 1 & NWE & PIT & 24 &  80 & 288 & 0 & 28 & 25 & 134 & 351 & 1 & 21 & W\\\\\n",
       "\t 2015 & 1 & BUF & IND & 36 & 147 & 195 & 0 & 27 & 17 &  64 & 243 & 3 & 14 & W\\\\\n",
       "\t 2015 & 1 & CHI & GNB & 33 & 189 & 225 & 1 & 23 & 30 & 133 & 189 & 0 & 31 & L\\\\\n",
       "\t 2015 & 1 & ARI & NOR & 25 & 120 & 307 & 1 & 31 & 20 &  54 & 355 & 1 & 19 & W\\\\\n",
       "\t 2015 & 1 & DAL & NYG & 23 &  80 & 356 & 3 & 27 & 24 &  99 & 189 & 0 & 26 & W\\\\\n",
       "\t 2015 & 1 & DEN & BAL & 25 &  69 & 175 & 1 & 19 & 23 &  73 & 117 & 2 & 13 & W\\\\\n",
       "\\end{tabular}\n"
      ],
      "text/markdown": [
       "\n",
       "A grouped_df: 6 × 15\n",
       "\n",
       "| Year &lt;dbl&gt; | Week &lt;dbl&gt; | HomeTeam &lt;chr&gt; | AwayTeam &lt;chr&gt; | H.RushAtt &lt;dbl&gt; | H.RushYards &lt;dbl&gt; | H.PassYards &lt;dbl&gt; | H.Turnover &lt;dbl&gt; | H.Score &lt;dbl&gt; | A.RushAtt &lt;dbl&gt; | A.RushYards &lt;dbl&gt; | A.PassYards &lt;dbl&gt; | A.Turnover &lt;dbl&gt; | A.Score &lt;dbl&gt; | gameResult &lt;chr&gt; |\n",
       "|---|---|---|---|---|---|---|---|---|---|---|---|---|---|---|\n",
       "| 2015 | 1 | NWE | PIT | 24 |  80 | 288 | 0 | 28 | 25 | 134 | 351 | 1 | 21 | W |\n",
       "| 2015 | 1 | BUF | IND | 36 | 147 | 195 | 0 | 27 | 17 |  64 | 243 | 3 | 14 | W |\n",
       "| 2015 | 1 | CHI | GNB | 33 | 189 | 225 | 1 | 23 | 30 | 133 | 189 | 0 | 31 | L |\n",
       "| 2015 | 1 | ARI | NOR | 25 | 120 | 307 | 1 | 31 | 20 |  54 | 355 | 1 | 19 | W |\n",
       "| 2015 | 1 | DAL | NYG | 23 |  80 | 356 | 3 | 27 | 24 |  99 | 189 | 0 | 26 | W |\n",
       "| 2015 | 1 | DEN | BAL | 25 |  69 | 175 | 1 | 19 | 23 |  73 | 117 | 2 | 13 | W |\n",
       "\n"
      ],
      "text/plain": [
       "  Year Week HomeTeam AwayTeam H.RushAtt H.RushYards H.PassYards H.Turnover\n",
       "1 2015 1    NWE      PIT      24         80         288         0         \n",
       "2 2015 1    BUF      IND      36        147         195         0         \n",
       "3 2015 1    CHI      GNB      33        189         225         1         \n",
       "4 2015 1    ARI      NOR      25        120         307         1         \n",
       "5 2015 1    DAL      NYG      23         80         356         3         \n",
       "6 2015 1    DEN      BAL      25         69         175         1         \n",
       "  H.Score A.RushAtt A.RushYards A.PassYards A.Turnover A.Score gameResult\n",
       "1 28      25        134         351         1          21      W         \n",
       "2 27      17         64         243         3          14      W         \n",
       "3 23      30        133         189         0          31      L         \n",
       "4 31      20         54         355         1          19      W         \n",
       "5 27      24         99         189         0          26      W         \n",
       "6 19      23         73         117         2          13      W         "
      ]
     },
     "metadata": {},
     "output_type": "display_data"
    }
   ],
   "source": [
    "# Tidy data\n",
    "nfl_data <- rbind(nfl_2015, nfl_2016, nfl_2017, nfl_2018, nfl_2019)\n",
    "nfl_data <- nfl_data %>%\n",
    "    subset(select=-c(Result, Total)) %>%\n",
    "    group_by(Week) \n",
    "\n",
    "#make R readable column names\n",
    "colnames(nfl_data) <- make.names(colnames(nfl_data))\n",
    "\n",
    "#Add a Game result column based on the home team\n",
    "nfl_data <- nfl_data %>%\n",
    "                mutate(gameResult = case_when(H.Score > A.Score ~ \"W\",\n",
    "                                              H.Score < A.Score ~ \"L\",\n",
    "                                              H.Score == A.Score ~ \"T\"))\n",
    "           \n",
    "head(nfl_data)"
   ]
  },
  {
   "cell_type": "code",
   "execution_count": 4,
   "metadata": {},
   "outputs": [
    {
     "data": {
      "text/html": [
       "0.55859375"
      ],
      "text/latex": [
       "0.55859375"
      ],
      "text/markdown": [
       "0.55859375"
      ],
      "text/plain": [
       "[1] 0.5585938"
      ]
     },
     "metadata": {},
     "output_type": "display_data"
    }
   ],
   "source": [
    "#Home team win percentage (Initial gauge on home team performance)\n",
    "winP <- sum(nfl_data$gameResult == \"W\") / nrow(nfl_data)\n",
    "winP"
   ]
  },
  {
   "cell_type": "markdown",
   "metadata": {},
   "source": [
    "</br>\n",
    "\n",
    "We will then calculate the \"delta values\" as mentioned in the analysis methods, and revise a new dataset for hypothesis testing. The \"delta values\" indicate the difference between the home and away statistics. Positive denotes a better performance at the teams home stadium while a negative value denotes a stronger performance at the opponents stadium. </br>"
   ]
  },
  {
   "cell_type": "code",
   "execution_count": 5,
   "metadata": {},
   "outputs": [
    {
     "name": "stderr",
     "output_type": "stream",
     "text": [
      "`summarise()` has grouped output by 'HomeTeam'. You can override using the `.groups` argument.\n",
      "\n",
      "`summarise()` has grouped output by 'AwayTeam'. You can override using the `.groups` argument.\n",
      "\n"
     ]
    },
    {
     "data": {
      "text/html": [
       "<table class=\"dataframe\">\n",
       "<caption>A data.frame: 6 × 5</caption>\n",
       "<thead>\n",
       "\t<tr><th></th><th scope=col>Team</th><th scope=col>Year</th><th scope=col>H.RushingAttAvg</th><th scope=col>A.RushingAttAvg</th><th scope=col>delta.RushingAttAvg</th></tr>\n",
       "\t<tr><th></th><th scope=col>&lt;chr&gt;</th><th scope=col>&lt;dbl&gt;</th><th scope=col>&lt;dbl&gt;</th><th scope=col>&lt;dbl&gt;</th><th scope=col>&lt;dbl&gt;</th></tr>\n",
       "</thead>\n",
       "<tbody>\n",
       "\t<tr><th scope=row>1</th><td>ARI</td><td>2015</td><td>25.500</td><td>31.000</td><td>-5.500</td></tr>\n",
       "\t<tr><th scope=row>2</th><td>ARI</td><td>2016</td><td>26.000</td><td>23.875</td><td> 2.125</td></tr>\n",
       "\t<tr><th scope=row>3</th><td>ARI</td><td>2017</td><td>26.625</td><td>24.625</td><td> 2.000</td></tr>\n",
       "\t<tr><th scope=row>4</th><td>ARI</td><td>2018</td><td>21.625</td><td>22.750</td><td>-1.125</td></tr>\n",
       "\t<tr><th scope=row>5</th><td>ARI</td><td>2019</td><td>24.750</td><td>24.750</td><td> 0.000</td></tr>\n",
       "\t<tr><th scope=row>6</th><td>ATL</td><td>2015</td><td>29.125</td><td>23.375</td><td> 5.750</td></tr>\n",
       "</tbody>\n",
       "</table>\n"
      ],
      "text/latex": [
       "A data.frame: 6 × 5\n",
       "\\begin{tabular}{r|lllll}\n",
       "  & Team & Year & H.RushingAttAvg & A.RushingAttAvg & delta.RushingAttAvg\\\\\n",
       "  & <chr> & <dbl> & <dbl> & <dbl> & <dbl>\\\\\n",
       "\\hline\n",
       "\t1 & ARI & 2015 & 25.500 & 31.000 & -5.500\\\\\n",
       "\t2 & ARI & 2016 & 26.000 & 23.875 &  2.125\\\\\n",
       "\t3 & ARI & 2017 & 26.625 & 24.625 &  2.000\\\\\n",
       "\t4 & ARI & 2018 & 21.625 & 22.750 & -1.125\\\\\n",
       "\t5 & ARI & 2019 & 24.750 & 24.750 &  0.000\\\\\n",
       "\t6 & ATL & 2015 & 29.125 & 23.375 &  5.750\\\\\n",
       "\\end{tabular}\n"
      ],
      "text/markdown": [
       "\n",
       "A data.frame: 6 × 5\n",
       "\n",
       "| <!--/--> | Team &lt;chr&gt; | Year &lt;dbl&gt; | H.RushingAttAvg &lt;dbl&gt; | A.RushingAttAvg &lt;dbl&gt; | delta.RushingAttAvg &lt;dbl&gt; |\n",
       "|---|---|---|---|---|---|\n",
       "| 1 | ARI | 2015 | 25.500 | 31.000 | -5.500 |\n",
       "| 2 | ARI | 2016 | 26.000 | 23.875 |  2.125 |\n",
       "| 3 | ARI | 2017 | 26.625 | 24.625 |  2.000 |\n",
       "| 4 | ARI | 2018 | 21.625 | 22.750 | -1.125 |\n",
       "| 5 | ARI | 2019 | 24.750 | 24.750 |  0.000 |\n",
       "| 6 | ATL | 2015 | 29.125 | 23.375 |  5.750 |\n",
       "\n"
      ],
      "text/plain": [
       "  Team Year H.RushingAttAvg A.RushingAttAvg delta.RushingAttAvg\n",
       "1 ARI  2015 25.500          31.000          -5.500             \n",
       "2 ARI  2016 26.000          23.875           2.125             \n",
       "3 ARI  2017 26.625          24.625           2.000             \n",
       "4 ARI  2018 21.625          22.750          -1.125             \n",
       "5 ARI  2019 24.750          24.750           0.000             \n",
       "6 ATL  2015 29.125          23.375           5.750             "
      ]
     },
     "metadata": {},
     "output_type": "display_data"
    }
   ],
   "source": [
    "#delta rushing attempts#\n",
    "\n",
    "#home rushing attempts avg\n",
    "homeRushingAttAvg <- nfl_data %>%\n",
    "    group_by(HomeTeam, Year) %>%\n",
    "    summarize(H.RushingAttAvg=mean(H.RushAtt)) \n",
    "names(homeRushingAttAvg)[names(homeRushingAttAvg)== 'HomeTeam'] <- 'Team'\n",
    "\n",
    "#away rushing attempts avg\n",
    "awayRushingAttAvg <- nfl_data %>%\n",
    "    group_by(AwayTeam, Year) %>%\n",
    "    summarize(A.RushingAttAvg=mean(A.RushAtt)) \n",
    "names(awayRushingAttAvg)[names(awayRushingAttAvg)== 'AwayTeam'] <- 'Team'\n",
    "\n",
    "#home and away rushing attempts average for each team of each year and the delta value\n",
    "rushAttAvg <- merge(homeRushingAttAvg, awayRushingAttAvg, all.x=TRUE)\n",
    "rushAttAvg$delta.RushingAttAvg <- rushAttAvg$H.RushingAttAvg - rushAttAvg$A.RushingAttAvg\n",
    "head(rushAttAvg)"
   ]
  },
  {
   "cell_type": "code",
   "execution_count": 6,
   "metadata": {},
   "outputs": [
    {
     "name": "stderr",
     "output_type": "stream",
     "text": [
      "`summarise()` has grouped output by 'HomeTeam'. You can override using the `.groups` argument.\n",
      "\n",
      "`summarise()` has grouped output by 'AwayTeam'. You can override using the `.groups` argument.\n",
      "\n"
     ]
    },
    {
     "data": {
      "text/html": [
       "<table class=\"dataframe\">\n",
       "<caption>A data.frame: 6 × 5</caption>\n",
       "<thead>\n",
       "\t<tr><th></th><th scope=col>Team</th><th scope=col>Year</th><th scope=col>H.RushingAvg</th><th scope=col>A.RushingAvg</th><th scope=col>delta.RushingAvg</th></tr>\n",
       "\t<tr><th></th><th scope=col>&lt;chr&gt;</th><th scope=col>&lt;dbl&gt;</th><th scope=col>&lt;dbl&gt;</th><th scope=col>&lt;dbl&gt;</th><th scope=col>&lt;dbl&gt;</th></tr>\n",
       "</thead>\n",
       "<tbody>\n",
       "\t<tr><th scope=row>1</th><td>ARI</td><td>2015</td><td>106.125</td><td>133.500</td><td>-27.375</td></tr>\n",
       "\t<tr><th scope=row>2</th><td>ARI</td><td>2016</td><td>112.750</td><td>103.750</td><td>  9.000</td></tr>\n",
       "\t<tr><th scope=row>3</th><td>ARI</td><td>2017</td><td> 91.250</td><td> 82.000</td><td>  9.250</td></tr>\n",
       "\t<tr><th scope=row>4</th><td>ARI</td><td>2018</td><td> 86.125</td><td> 81.625</td><td>  4.500</td></tr>\n",
       "\t<tr><th scope=row>5</th><td>ARI</td><td>2019</td><td>121.750</td><td>127.000</td><td> -5.250</td></tr>\n",
       "\t<tr><th scope=row>6</th><td>ATL</td><td>2015</td><td>112.125</td><td> 88.625</td><td> 23.500</td></tr>\n",
       "</tbody>\n",
       "</table>\n"
      ],
      "text/latex": [
       "A data.frame: 6 × 5\n",
       "\\begin{tabular}{r|lllll}\n",
       "  & Team & Year & H.RushingAvg & A.RushingAvg & delta.RushingAvg\\\\\n",
       "  & <chr> & <dbl> & <dbl> & <dbl> & <dbl>\\\\\n",
       "\\hline\n",
       "\t1 & ARI & 2015 & 106.125 & 133.500 & -27.375\\\\\n",
       "\t2 & ARI & 2016 & 112.750 & 103.750 &   9.000\\\\\n",
       "\t3 & ARI & 2017 &  91.250 &  82.000 &   9.250\\\\\n",
       "\t4 & ARI & 2018 &  86.125 &  81.625 &   4.500\\\\\n",
       "\t5 & ARI & 2019 & 121.750 & 127.000 &  -5.250\\\\\n",
       "\t6 & ATL & 2015 & 112.125 &  88.625 &  23.500\\\\\n",
       "\\end{tabular}\n"
      ],
      "text/markdown": [
       "\n",
       "A data.frame: 6 × 5\n",
       "\n",
       "| <!--/--> | Team &lt;chr&gt; | Year &lt;dbl&gt; | H.RushingAvg &lt;dbl&gt; | A.RushingAvg &lt;dbl&gt; | delta.RushingAvg &lt;dbl&gt; |\n",
       "|---|---|---|---|---|---|\n",
       "| 1 | ARI | 2015 | 106.125 | 133.500 | -27.375 |\n",
       "| 2 | ARI | 2016 | 112.750 | 103.750 |   9.000 |\n",
       "| 3 | ARI | 2017 |  91.250 |  82.000 |   9.250 |\n",
       "| 4 | ARI | 2018 |  86.125 |  81.625 |   4.500 |\n",
       "| 5 | ARI | 2019 | 121.750 | 127.000 |  -5.250 |\n",
       "| 6 | ATL | 2015 | 112.125 |  88.625 |  23.500 |\n",
       "\n"
      ],
      "text/plain": [
       "  Team Year H.RushingAvg A.RushingAvg delta.RushingAvg\n",
       "1 ARI  2015 106.125      133.500      -27.375         \n",
       "2 ARI  2016 112.750      103.750        9.000         \n",
       "3 ARI  2017  91.250       82.000        9.250         \n",
       "4 ARI  2018  86.125       81.625        4.500         \n",
       "5 ARI  2019 121.750      127.000       -5.250         \n",
       "6 ATL  2015 112.125       88.625       23.500         "
      ]
     },
     "metadata": {},
     "output_type": "display_data"
    }
   ],
   "source": [
    "#delta rushing yards#\n",
    "\n",
    "#home rushing avg\n",
    "homeRushingAvg <- nfl_data %>%\n",
    "    group_by(HomeTeam, Year) %>%\n",
    "    summarize(H.RushingAvg=mean(H.RushYards)) \n",
    "names(homeRushingAvg)[names(homeRushingAvg)== 'HomeTeam'] <- 'Team'\n",
    "\n",
    "#away rushing avg\n",
    "awayRushingAvg <- nfl_data %>%\n",
    "    group_by(AwayTeam, Year) %>%\n",
    "    summarize(A.RushingAvg=mean(A.RushYards)) \n",
    "names(awayRushingAvg)[names(awayRushingAvg)== 'AwayTeam'] <- 'Team'\n",
    "\n",
    "#home and away passing average for each team of each year and the delta value\n",
    "rushAvg <- merge(homeRushingAvg, awayRushingAvg, all.x=TRUE)\n",
    "rushAvg$delta.RushingAvg <- rushAvg$H.RushingAvg - rushAvg$A.RushingAvg\n",
    "head(rushAvg)"
   ]
  },
  {
   "cell_type": "code",
   "execution_count": 7,
   "metadata": {},
   "outputs": [
    {
     "name": "stderr",
     "output_type": "stream",
     "text": [
      "`summarise()` has grouped output by 'HomeTeam'. You can override using the `.groups` argument.\n",
      "\n",
      "`summarise()` has grouped output by 'AwayTeam'. You can override using the `.groups` argument.\n",
      "\n"
     ]
    },
    {
     "data": {
      "text/html": [
       "<table class=\"dataframe\">\n",
       "<caption>A data.frame: 6 × 5</caption>\n",
       "<thead>\n",
       "\t<tr><th></th><th scope=col>Team</th><th scope=col>Year</th><th scope=col>H.PassingAvg</th><th scope=col>A.PassingAvg</th><th scope=col>delta.PassingAvg</th></tr>\n",
       "\t<tr><th></th><th scope=col>&lt;chr&gt;</th><th scope=col>&lt;dbl&gt;</th><th scope=col>&lt;dbl&gt;</th><th scope=col>&lt;dbl&gt;</th><th scope=col>&lt;dbl&gt;</th></tr>\n",
       "</thead>\n",
       "<tbody>\n",
       "\t<tr><th scope=row>1</th><td>ARI</td><td>2015</td><td>294.250</td><td>302.625</td><td>-8.375</td></tr>\n",
       "\t<tr><th scope=row>2</th><td>ARI</td><td>2016</td><td>309.000</td><td>244.125</td><td>64.875</td></tr>\n",
       "\t<tr><th scope=row>3</th><td>ARI</td><td>2017</td><td>263.500</td><td>233.875</td><td>29.625</td></tr>\n",
       "\t<tr><th scope=row>4</th><td>ARI</td><td>2018</td><td>191.250</td><td>169.250</td><td>22.000</td></tr>\n",
       "\t<tr><th scope=row>5</th><td>ARI</td><td>2019</td><td>234.875</td><td>239.750</td><td>-4.875</td></tr>\n",
       "\t<tr><th scope=row>6</th><td>ATL</td><td>2015</td><td>294.375</td><td>280.875</td><td>13.500</td></tr>\n",
       "</tbody>\n",
       "</table>\n"
      ],
      "text/latex": [
       "A data.frame: 6 × 5\n",
       "\\begin{tabular}{r|lllll}\n",
       "  & Team & Year & H.PassingAvg & A.PassingAvg & delta.PassingAvg\\\\\n",
       "  & <chr> & <dbl> & <dbl> & <dbl> & <dbl>\\\\\n",
       "\\hline\n",
       "\t1 & ARI & 2015 & 294.250 & 302.625 & -8.375\\\\\n",
       "\t2 & ARI & 2016 & 309.000 & 244.125 & 64.875\\\\\n",
       "\t3 & ARI & 2017 & 263.500 & 233.875 & 29.625\\\\\n",
       "\t4 & ARI & 2018 & 191.250 & 169.250 & 22.000\\\\\n",
       "\t5 & ARI & 2019 & 234.875 & 239.750 & -4.875\\\\\n",
       "\t6 & ATL & 2015 & 294.375 & 280.875 & 13.500\\\\\n",
       "\\end{tabular}\n"
      ],
      "text/markdown": [
       "\n",
       "A data.frame: 6 × 5\n",
       "\n",
       "| <!--/--> | Team &lt;chr&gt; | Year &lt;dbl&gt; | H.PassingAvg &lt;dbl&gt; | A.PassingAvg &lt;dbl&gt; | delta.PassingAvg &lt;dbl&gt; |\n",
       "|---|---|---|---|---|---|\n",
       "| 1 | ARI | 2015 | 294.250 | 302.625 | -8.375 |\n",
       "| 2 | ARI | 2016 | 309.000 | 244.125 | 64.875 |\n",
       "| 3 | ARI | 2017 | 263.500 | 233.875 | 29.625 |\n",
       "| 4 | ARI | 2018 | 191.250 | 169.250 | 22.000 |\n",
       "| 5 | ARI | 2019 | 234.875 | 239.750 | -4.875 |\n",
       "| 6 | ATL | 2015 | 294.375 | 280.875 | 13.500 |\n",
       "\n"
      ],
      "text/plain": [
       "  Team Year H.PassingAvg A.PassingAvg delta.PassingAvg\n",
       "1 ARI  2015 294.250      302.625      -8.375          \n",
       "2 ARI  2016 309.000      244.125      64.875          \n",
       "3 ARI  2017 263.500      233.875      29.625          \n",
       "4 ARI  2018 191.250      169.250      22.000          \n",
       "5 ARI  2019 234.875      239.750      -4.875          \n",
       "6 ATL  2015 294.375      280.875      13.500          "
      ]
     },
     "metadata": {},
     "output_type": "display_data"
    }
   ],
   "source": [
    "#delta passing yards#\n",
    "\n",
    "#home passing avg\n",
    "homePassingAvg <- nfl_data %>%\n",
    "    group_by(HomeTeam, Year) %>%\n",
    "    summarize(H.PassingAvg=mean(H.PassYards)) \n",
    "names(homePassingAvg)[names(homePassingAvg)== 'HomeTeam'] <- 'Team'\n",
    "\n",
    "#away passing avg\n",
    "awayPassingAvg <- nfl_data %>%\n",
    "    group_by(AwayTeam, Year) %>%\n",
    "    summarize(A.PassingAvg=mean(A.PassYards)) \n",
    "names(awayPassingAvg)[names(awayPassingAvg)== 'AwayTeam'] <- 'Team'\n",
    "\n",
    "#home and away passing average for each team of each year and the delta value\n",
    "passAvg <- merge(homePassingAvg, awayPassingAvg, all.x=TRUE)\n",
    "passAvg$delta.PassingAvg <- passAvg$H.PassingAvg - passAvg$A.PassingAvg\n",
    "head(passAvg)"
   ]
  },
  {
   "cell_type": "code",
   "execution_count": 8,
   "metadata": {},
   "outputs": [
    {
     "name": "stderr",
     "output_type": "stream",
     "text": [
      "`summarise()` has grouped output by 'HomeTeam'. You can override using the `.groups` argument.\n",
      "\n",
      "`summarise()` has grouped output by 'AwayTeam'. You can override using the `.groups` argument.\n",
      "\n"
     ]
    },
    {
     "data": {
      "text/html": [
       "<table class=\"dataframe\">\n",
       "<caption>A data.frame: 6 × 5</caption>\n",
       "<thead>\n",
       "\t<tr><th></th><th scope=col>Team</th><th scope=col>Year</th><th scope=col>H.TurnoverAvg</th><th scope=col>A.TurnoverAvg</th><th scope=col>delta.TurnoverAvg</th></tr>\n",
       "\t<tr><th></th><th scope=col>&lt;chr&gt;</th><th scope=col>&lt;dbl&gt;</th><th scope=col>&lt;dbl&gt;</th><th scope=col>&lt;dbl&gt;</th><th scope=col>&lt;dbl&gt;</th></tr>\n",
       "</thead>\n",
       "<tbody>\n",
       "\t<tr><th scope=row>1</th><td>ARI</td><td>2015</td><td>1.500</td><td>1.500</td><td> 0.000</td></tr>\n",
       "\t<tr><th scope=row>2</th><td>ARI</td><td>2016</td><td>1.375</td><td>2.125</td><td>-0.750</td></tr>\n",
       "\t<tr><th scope=row>3</th><td>ARI</td><td>2017</td><td>1.250</td><td>1.875</td><td>-0.625</td></tr>\n",
       "\t<tr><th scope=row>4</th><td>ARI</td><td>2018</td><td>2.125</td><td>1.375</td><td> 0.750</td></tr>\n",
       "\t<tr><th scope=row>5</th><td>ARI</td><td>2019</td><td>1.125</td><td>1.125</td><td> 0.000</td></tr>\n",
       "\t<tr><th scope=row>6</th><td>ATL</td><td>2015</td><td>2.375</td><td>1.375</td><td> 1.000</td></tr>\n",
       "</tbody>\n",
       "</table>\n"
      ],
      "text/latex": [
       "A data.frame: 6 × 5\n",
       "\\begin{tabular}{r|lllll}\n",
       "  & Team & Year & H.TurnoverAvg & A.TurnoverAvg & delta.TurnoverAvg\\\\\n",
       "  & <chr> & <dbl> & <dbl> & <dbl> & <dbl>\\\\\n",
       "\\hline\n",
       "\t1 & ARI & 2015 & 1.500 & 1.500 &  0.000\\\\\n",
       "\t2 & ARI & 2016 & 1.375 & 2.125 & -0.750\\\\\n",
       "\t3 & ARI & 2017 & 1.250 & 1.875 & -0.625\\\\\n",
       "\t4 & ARI & 2018 & 2.125 & 1.375 &  0.750\\\\\n",
       "\t5 & ARI & 2019 & 1.125 & 1.125 &  0.000\\\\\n",
       "\t6 & ATL & 2015 & 2.375 & 1.375 &  1.000\\\\\n",
       "\\end{tabular}\n"
      ],
      "text/markdown": [
       "\n",
       "A data.frame: 6 × 5\n",
       "\n",
       "| <!--/--> | Team &lt;chr&gt; | Year &lt;dbl&gt; | H.TurnoverAvg &lt;dbl&gt; | A.TurnoverAvg &lt;dbl&gt; | delta.TurnoverAvg &lt;dbl&gt; |\n",
       "|---|---|---|---|---|---|\n",
       "| 1 | ARI | 2015 | 1.500 | 1.500 |  0.000 |\n",
       "| 2 | ARI | 2016 | 1.375 | 2.125 | -0.750 |\n",
       "| 3 | ARI | 2017 | 1.250 | 1.875 | -0.625 |\n",
       "| 4 | ARI | 2018 | 2.125 | 1.375 |  0.750 |\n",
       "| 5 | ARI | 2019 | 1.125 | 1.125 |  0.000 |\n",
       "| 6 | ATL | 2015 | 2.375 | 1.375 |  1.000 |\n",
       "\n"
      ],
      "text/plain": [
       "  Team Year H.TurnoverAvg A.TurnoverAvg delta.TurnoverAvg\n",
       "1 ARI  2015 1.500         1.500          0.000           \n",
       "2 ARI  2016 1.375         2.125         -0.750           \n",
       "3 ARI  2017 1.250         1.875         -0.625           \n",
       "4 ARI  2018 2.125         1.375          0.750           \n",
       "5 ARI  2019 1.125         1.125          0.000           \n",
       "6 ATL  2015 2.375         1.375          1.000           "
      ]
     },
     "metadata": {},
     "output_type": "display_data"
    }
   ],
   "source": [
    "#delta turnovers#\n",
    "\n",
    "#home turnover avg\n",
    "homeTurnoverAvg <- nfl_data %>%\n",
    "    group_by(HomeTeam, Year) %>%\n",
    "    summarize(H.TurnoverAvg=mean(H.Turnover)) \n",
    "names(homeTurnoverAvg)[names(homeTurnoverAvg)== 'HomeTeam'] <- 'Team'\n",
    "\n",
    "#away turnover avg\n",
    "awayTurnoverAvg <- nfl_data %>%\n",
    "    group_by(AwayTeam, Year) %>%\n",
    "    summarize(A.TurnoverAvg=mean(A.Turnover)) \n",
    "names(awayTurnoverAvg)[names(awayTurnoverAvg)== 'AwayTeam'] <- 'Team'\n",
    "\n",
    "#home and away turnover average for each team of each year and the delta value\n",
    "turnoverAvg <- merge(homeTurnoverAvg, awayTurnoverAvg, all.x=TRUE)\n",
    "turnoverAvg$delta.TurnoverAvg <- turnoverAvg$H.TurnoverAvg - turnoverAvg$A.TurnoverAvg\n",
    "head(turnoverAvg)"
   ]
  },
  {
   "cell_type": "code",
   "execution_count": 9,
   "metadata": {},
   "outputs": [
    {
     "name": "stderr",
     "output_type": "stream",
     "text": [
      "`summarise()` has grouped output by 'HomeTeam'. You can override using the `.groups` argument.\n",
      "\n",
      "`summarise()` has grouped output by 'AwayTeam'. You can override using the `.groups` argument.\n",
      "\n"
     ]
    },
    {
     "data": {
      "text/html": [
       "<table class=\"dataframe\">\n",
       "<caption>A data.frame: 6 × 5</caption>\n",
       "<thead>\n",
       "\t<tr><th></th><th scope=col>Team</th><th scope=col>Year</th><th scope=col>H.ScoreAvg</th><th scope=col>A.ScoreAvg</th><th scope=col>delta.ScoreAvg</th></tr>\n",
       "\t<tr><th></th><th scope=col>&lt;chr&gt;</th><th scope=col>&lt;dbl&gt;</th><th scope=col>&lt;dbl&gt;</th><th scope=col>&lt;dbl&gt;</th><th scope=col>&lt;dbl&gt;</th></tr>\n",
       "</thead>\n",
       "<tbody>\n",
       "\t<tr><th scope=row>1</th><td>ARI</td><td>2015</td><td>28.375</td><td>32.750</td><td>-4.375</td></tr>\n",
       "\t<tr><th scope=row>2</th><td>ARI</td><td>2016</td><td>25.375</td><td>26.875</td><td>-1.500</td></tr>\n",
       "\t<tr><th scope=row>3</th><td>ARI</td><td>2017</td><td>20.875</td><td>16.000</td><td> 4.875</td></tr>\n",
       "\t<tr><th scope=row>4</th><td>ARI</td><td>2018</td><td>12.250</td><td>15.875</td><td>-3.625</td></tr>\n",
       "\t<tr><th scope=row>5</th><td>ARI</td><td>2019</td><td>22.250</td><td>22.875</td><td>-0.625</td></tr>\n",
       "\t<tr><th scope=row>6</th><td>ATL</td><td>2015</td><td>23.375</td><td>19.000</td><td> 4.375</td></tr>\n",
       "</tbody>\n",
       "</table>\n"
      ],
      "text/latex": [
       "A data.frame: 6 × 5\n",
       "\\begin{tabular}{r|lllll}\n",
       "  & Team & Year & H.ScoreAvg & A.ScoreAvg & delta.ScoreAvg\\\\\n",
       "  & <chr> & <dbl> & <dbl> & <dbl> & <dbl>\\\\\n",
       "\\hline\n",
       "\t1 & ARI & 2015 & 28.375 & 32.750 & -4.375\\\\\n",
       "\t2 & ARI & 2016 & 25.375 & 26.875 & -1.500\\\\\n",
       "\t3 & ARI & 2017 & 20.875 & 16.000 &  4.875\\\\\n",
       "\t4 & ARI & 2018 & 12.250 & 15.875 & -3.625\\\\\n",
       "\t5 & ARI & 2019 & 22.250 & 22.875 & -0.625\\\\\n",
       "\t6 & ATL & 2015 & 23.375 & 19.000 &  4.375\\\\\n",
       "\\end{tabular}\n"
      ],
      "text/markdown": [
       "\n",
       "A data.frame: 6 × 5\n",
       "\n",
       "| <!--/--> | Team &lt;chr&gt; | Year &lt;dbl&gt; | H.ScoreAvg &lt;dbl&gt; | A.ScoreAvg &lt;dbl&gt; | delta.ScoreAvg &lt;dbl&gt; |\n",
       "|---|---|---|---|---|---|\n",
       "| 1 | ARI | 2015 | 28.375 | 32.750 | -4.375 |\n",
       "| 2 | ARI | 2016 | 25.375 | 26.875 | -1.500 |\n",
       "| 3 | ARI | 2017 | 20.875 | 16.000 |  4.875 |\n",
       "| 4 | ARI | 2018 | 12.250 | 15.875 | -3.625 |\n",
       "| 5 | ARI | 2019 | 22.250 | 22.875 | -0.625 |\n",
       "| 6 | ATL | 2015 | 23.375 | 19.000 |  4.375 |\n",
       "\n"
      ],
      "text/plain": [
       "  Team Year H.ScoreAvg A.ScoreAvg delta.ScoreAvg\n",
       "1 ARI  2015 28.375     32.750     -4.375        \n",
       "2 ARI  2016 25.375     26.875     -1.500        \n",
       "3 ARI  2017 20.875     16.000      4.875        \n",
       "4 ARI  2018 12.250     15.875     -3.625        \n",
       "5 ARI  2019 22.250     22.875     -0.625        \n",
       "6 ATL  2015 23.375     19.000      4.375        "
      ]
     },
     "metadata": {},
     "output_type": "display_data"
    }
   ],
   "source": [
    "#delta scores#\n",
    "\n",
    "#home score avg\n",
    "homeScoreAvg <- nfl_data %>%\n",
    "    group_by(HomeTeam, Year) %>%\n",
    "    summarize(H.ScoreAvg=mean(H.Score)) \n",
    "names(homeScoreAvg)[names(homeScoreAvg)== 'HomeTeam'] <- 'Team'\n",
    "\n",
    "#away score avg\n",
    "awayScoreAvg <- nfl_data %>%\n",
    "    group_by(AwayTeam, Year) %>%\n",
    "    summarize(A.ScoreAvg=mean(A.Score)) \n",
    "names(awayScoreAvg)[names(awayScoreAvg)== 'AwayTeam'] <- 'Team'\n",
    "\n",
    "#home and away score average for each team of each year and the delta value\n",
    "scoreAvg <- merge(homeScoreAvg, awayScoreAvg, all.x=TRUE)\n",
    "scoreAvg$delta.ScoreAvg <- scoreAvg$H.ScoreAvg - scoreAvg$A.ScoreAvg\n",
    "head(scoreAvg)"
   ]
  },
  {
   "cell_type": "code",
   "execution_count": 10,
   "metadata": {},
   "outputs": [
    {
     "name": "stderr",
     "output_type": "stream",
     "text": [
      "`summarise()` has grouped output by 'HomeTeam'. You can override using the `.groups` argument.\n",
      "\n",
      "`summarise()` has grouped output by 'AwayTeam'. You can override using the `.groups` argument.\n",
      "\n"
     ]
    },
    {
     "data": {
      "text/html": [
       "<table class=\"dataframe\">\n",
       "<caption>A data.frame: 6 × 9</caption>\n",
       "<thead>\n",
       "\t<tr><th></th><th scope=col>Team</th><th scope=col>Year</th><th scope=col>H.Wins</th><th scope=col>H.Loss</th><th scope=col>H.WinP</th><th scope=col>A.Wins</th><th scope=col>A.Loss</th><th scope=col>A.WinP</th><th scope=col>delta.WinP</th></tr>\n",
       "\t<tr><th></th><th scope=col>&lt;chr&gt;</th><th scope=col>&lt;dbl&gt;</th><th scope=col>&lt;int&gt;</th><th scope=col>&lt;int&gt;</th><th scope=col>&lt;dbl&gt;</th><th scope=col>&lt;int&gt;</th><th scope=col>&lt;int&gt;</th><th scope=col>&lt;dbl&gt;</th><th scope=col>&lt;dbl&gt;</th></tr>\n",
       "</thead>\n",
       "<tbody>\n",
       "\t<tr><th scope=row>1</th><td>ARI</td><td>2015</td><td>6</td><td>2</td><td>0.7500000</td><td>7</td><td>1</td><td>0.875</td><td>-0.12500000</td></tr>\n",
       "\t<tr><th scope=row>2</th><td>ARI</td><td>2016</td><td>4</td><td>3</td><td>0.5714286</td><td>3</td><td>5</td><td>0.375</td><td> 0.19642857</td></tr>\n",
       "\t<tr><th scope=row>3</th><td>ARI</td><td>2017</td><td>5</td><td>3</td><td>0.6250000</td><td>3</td><td>5</td><td>0.375</td><td> 0.25000000</td></tr>\n",
       "\t<tr><th scope=row>4</th><td>ARI</td><td>2018</td><td>1</td><td>7</td><td>0.1250000</td><td>2</td><td>6</td><td>0.250</td><td>-0.12500000</td></tr>\n",
       "\t<tr><th scope=row>5</th><td>ARI</td><td>2019</td><td>2</td><td>5</td><td>0.2857143</td><td>3</td><td>5</td><td>0.375</td><td>-0.08928571</td></tr>\n",
       "\t<tr><th scope=row>6</th><td>ATL</td><td>2015</td><td>4</td><td>4</td><td>0.5000000</td><td>4</td><td>4</td><td>0.500</td><td> 0.00000000</td></tr>\n",
       "</tbody>\n",
       "</table>\n"
      ],
      "text/latex": [
       "A data.frame: 6 × 9\n",
       "\\begin{tabular}{r|lllllllll}\n",
       "  & Team & Year & H.Wins & H.Loss & H.WinP & A.Wins & A.Loss & A.WinP & delta.WinP\\\\\n",
       "  & <chr> & <dbl> & <int> & <int> & <dbl> & <int> & <int> & <dbl> & <dbl>\\\\\n",
       "\\hline\n",
       "\t1 & ARI & 2015 & 6 & 2 & 0.7500000 & 7 & 1 & 0.875 & -0.12500000\\\\\n",
       "\t2 & ARI & 2016 & 4 & 3 & 0.5714286 & 3 & 5 & 0.375 &  0.19642857\\\\\n",
       "\t3 & ARI & 2017 & 5 & 3 & 0.6250000 & 3 & 5 & 0.375 &  0.25000000\\\\\n",
       "\t4 & ARI & 2018 & 1 & 7 & 0.1250000 & 2 & 6 & 0.250 & -0.12500000\\\\\n",
       "\t5 & ARI & 2019 & 2 & 5 & 0.2857143 & 3 & 5 & 0.375 & -0.08928571\\\\\n",
       "\t6 & ATL & 2015 & 4 & 4 & 0.5000000 & 4 & 4 & 0.500 &  0.00000000\\\\\n",
       "\\end{tabular}\n"
      ],
      "text/markdown": [
       "\n",
       "A data.frame: 6 × 9\n",
       "\n",
       "| <!--/--> | Team &lt;chr&gt; | Year &lt;dbl&gt; | H.Wins &lt;int&gt; | H.Loss &lt;int&gt; | H.WinP &lt;dbl&gt; | A.Wins &lt;int&gt; | A.Loss &lt;int&gt; | A.WinP &lt;dbl&gt; | delta.WinP &lt;dbl&gt; |\n",
       "|---|---|---|---|---|---|---|---|---|---|\n",
       "| 1 | ARI | 2015 | 6 | 2 | 0.7500000 | 7 | 1 | 0.875 | -0.12500000 |\n",
       "| 2 | ARI | 2016 | 4 | 3 | 0.5714286 | 3 | 5 | 0.375 |  0.19642857 |\n",
       "| 3 | ARI | 2017 | 5 | 3 | 0.6250000 | 3 | 5 | 0.375 |  0.25000000 |\n",
       "| 4 | ARI | 2018 | 1 | 7 | 0.1250000 | 2 | 6 | 0.250 | -0.12500000 |\n",
       "| 5 | ARI | 2019 | 2 | 5 | 0.2857143 | 3 | 5 | 0.375 | -0.08928571 |\n",
       "| 6 | ATL | 2015 | 4 | 4 | 0.5000000 | 4 | 4 | 0.500 |  0.00000000 |\n",
       "\n"
      ],
      "text/plain": [
       "  Team Year H.Wins H.Loss H.WinP    A.Wins A.Loss A.WinP delta.WinP \n",
       "1 ARI  2015 6      2      0.7500000 7      1      0.875  -0.12500000\n",
       "2 ARI  2016 4      3      0.5714286 3      5      0.375   0.19642857\n",
       "3 ARI  2017 5      3      0.6250000 3      5      0.375   0.25000000\n",
       "4 ARI  2018 1      7      0.1250000 2      6      0.250  -0.12500000\n",
       "5 ARI  2019 2      5      0.2857143 3      5      0.375  -0.08928571\n",
       "6 ATL  2015 4      4      0.5000000 4      4      0.500   0.00000000"
      ]
     },
     "metadata": {},
     "output_type": "display_data"
    }
   ],
   "source": [
    "#delta win percentage#\n",
    "\n",
    "#home win percentage\n",
    "homeWin <- nfl_data %>%\n",
    "    group_by(HomeTeam, Year) %>%\n",
    "    summarize(H.Wins=sum(gameResult=='W'),\n",
    "              H.Loss=sum(gameResult=='L'),\n",
    "             H.WinP=H.Wins/sum(H.Wins, H.Loss))\n",
    "names(homeWin)[names(homeWin)== 'HomeTeam'] <- 'Team'\n",
    "\n",
    "#away win percentage\n",
    "awayWin <- nfl_data %>%\n",
    "    group_by(AwayTeam, Year) %>%\n",
    "    summarize(A.Wins=sum(gameResult=='L'),\n",
    "             A.Loss=sum(gameResult=='W'),\n",
    "             A.WinP=A.Wins/sum(A.Wins, A.Loss)) \n",
    "names(awayWin)[names(awayWin)== 'AwayTeam'] <- 'Team'\n",
    "\n",
    "#home and away win percentage for each team of each year and the delta value\n",
    "win <- merge(homeWin, awayWin, all.x=TRUE)\n",
    "win$delta.WinP <- win$H.WinP - win$A.WinP\n",
    "head(win)"
   ]
  },
  {
   "cell_type": "code",
   "execution_count": 11,
   "metadata": {},
   "outputs": [
    {
     "data": {
      "text/html": [
       "<table class=\"dataframe\">\n",
       "<caption>A data.frame: 10 × 8</caption>\n",
       "<thead>\n",
       "\t<tr><th></th><th scope=col>Team</th><th scope=col>Year</th><th scope=col>delta.RushingAttAvg</th><th scope=col>delta.RushingAvg</th><th scope=col>delta.PassingAvg</th><th scope=col>delta.TurnoverAvg</th><th scope=col>delta.ScoreAvg</th><th scope=col>delta.WinP</th></tr>\n",
       "\t<tr><th></th><th scope=col>&lt;chr&gt;</th><th scope=col>&lt;dbl&gt;</th><th scope=col>&lt;dbl&gt;</th><th scope=col>&lt;dbl&gt;</th><th scope=col>&lt;dbl&gt;</th><th scope=col>&lt;dbl&gt;</th><th scope=col>&lt;dbl&gt;</th><th scope=col>&lt;dbl&gt;</th></tr>\n",
       "</thead>\n",
       "<tbody>\n",
       "\t<tr><th scope=row>1</th><td>ARI</td><td>2015</td><td>-5.500</td><td>-27.375</td><td>-8.375</td><td> 0.000</td><td>-4.375</td><td>-0.12500000</td></tr>\n",
       "\t<tr><th scope=row>2</th><td>ARI</td><td>2016</td><td> 2.125</td><td>  9.000</td><td>64.875</td><td>-0.750</td><td>-1.500</td><td> 0.19642857</td></tr>\n",
       "\t<tr><th scope=row>3</th><td>ARI</td><td>2017</td><td> 2.000</td><td>  9.250</td><td>29.625</td><td>-0.625</td><td> 4.875</td><td> 0.25000000</td></tr>\n",
       "\t<tr><th scope=row>4</th><td>ARI</td><td>2018</td><td>-1.125</td><td>  4.500</td><td>22.000</td><td> 0.750</td><td>-3.625</td><td>-0.12500000</td></tr>\n",
       "\t<tr><th scope=row>5</th><td>ARI</td><td>2019</td><td> 0.000</td><td> -5.250</td><td>-4.875</td><td> 0.000</td><td>-0.625</td><td>-0.08928571</td></tr>\n",
       "\t<tr><th scope=row>6</th><td>ATL</td><td>2015</td><td> 5.750</td><td> 23.500</td><td>13.500</td><td> 1.000</td><td> 4.375</td><td> 0.00000000</td></tr>\n",
       "\t<tr><th scope=row>7</th><td>ATL</td><td>2016</td><td> 1.125</td><td>  8.000</td><td>29.250</td><td>-0.125</td><td> 2.500</td><td>-0.12500000</td></tr>\n",
       "\t<tr><th scope=row>8</th><td>ATL</td><td>2017</td><td> 1.750</td><td>  9.625</td><td>-9.250</td><td> 0.000</td><td> 0.875</td><td> 0.00000000</td></tr>\n",
       "\t<tr><th scope=row>9</th><td>ATL</td><td>2018</td><td> 1.125</td><td> -2.625</td><td>-5.625</td><td>-1.250</td><td> 7.250</td><td> 0.12500000</td></tr>\n",
       "\t<tr><th scope=row>10</th><td>ATL</td><td>2019</td><td>-2.750</td><td> -4.625</td><td>52.875</td><td> 1.125</td><td>-5.625</td><td>-0.12500000</td></tr>\n",
       "</tbody>\n",
       "</table>\n"
      ],
      "text/latex": [
       "A data.frame: 10 × 8\n",
       "\\begin{tabular}{r|llllllll}\n",
       "  & Team & Year & delta.RushingAttAvg & delta.RushingAvg & delta.PassingAvg & delta.TurnoverAvg & delta.ScoreAvg & delta.WinP\\\\\n",
       "  & <chr> & <dbl> & <dbl> & <dbl> & <dbl> & <dbl> & <dbl> & <dbl>\\\\\n",
       "\\hline\n",
       "\t1 & ARI & 2015 & -5.500 & -27.375 & -8.375 &  0.000 & -4.375 & -0.12500000\\\\\n",
       "\t2 & ARI & 2016 &  2.125 &   9.000 & 64.875 & -0.750 & -1.500 &  0.19642857\\\\\n",
       "\t3 & ARI & 2017 &  2.000 &   9.250 & 29.625 & -0.625 &  4.875 &  0.25000000\\\\\n",
       "\t4 & ARI & 2018 & -1.125 &   4.500 & 22.000 &  0.750 & -3.625 & -0.12500000\\\\\n",
       "\t5 & ARI & 2019 &  0.000 &  -5.250 & -4.875 &  0.000 & -0.625 & -0.08928571\\\\\n",
       "\t6 & ATL & 2015 &  5.750 &  23.500 & 13.500 &  1.000 &  4.375 &  0.00000000\\\\\n",
       "\t7 & ATL & 2016 &  1.125 &   8.000 & 29.250 & -0.125 &  2.500 & -0.12500000\\\\\n",
       "\t8 & ATL & 2017 &  1.750 &   9.625 & -9.250 &  0.000 &  0.875 &  0.00000000\\\\\n",
       "\t9 & ATL & 2018 &  1.125 &  -2.625 & -5.625 & -1.250 &  7.250 &  0.12500000\\\\\n",
       "\t10 & ATL & 2019 & -2.750 &  -4.625 & 52.875 &  1.125 & -5.625 & -0.12500000\\\\\n",
       "\\end{tabular}\n"
      ],
      "text/markdown": [
       "\n",
       "A data.frame: 10 × 8\n",
       "\n",
       "| <!--/--> | Team &lt;chr&gt; | Year &lt;dbl&gt; | delta.RushingAttAvg &lt;dbl&gt; | delta.RushingAvg &lt;dbl&gt; | delta.PassingAvg &lt;dbl&gt; | delta.TurnoverAvg &lt;dbl&gt; | delta.ScoreAvg &lt;dbl&gt; | delta.WinP &lt;dbl&gt; |\n",
       "|---|---|---|---|---|---|---|---|---|\n",
       "| 1 | ARI | 2015 | -5.500 | -27.375 | -8.375 |  0.000 | -4.375 | -0.12500000 |\n",
       "| 2 | ARI | 2016 |  2.125 |   9.000 | 64.875 | -0.750 | -1.500 |  0.19642857 |\n",
       "| 3 | ARI | 2017 |  2.000 |   9.250 | 29.625 | -0.625 |  4.875 |  0.25000000 |\n",
       "| 4 | ARI | 2018 | -1.125 |   4.500 | 22.000 |  0.750 | -3.625 | -0.12500000 |\n",
       "| 5 | ARI | 2019 |  0.000 |  -5.250 | -4.875 |  0.000 | -0.625 | -0.08928571 |\n",
       "| 6 | ATL | 2015 |  5.750 |  23.500 | 13.500 |  1.000 |  4.375 |  0.00000000 |\n",
       "| 7 | ATL | 2016 |  1.125 |   8.000 | 29.250 | -0.125 |  2.500 | -0.12500000 |\n",
       "| 8 | ATL | 2017 |  1.750 |   9.625 | -9.250 |  0.000 |  0.875 |  0.00000000 |\n",
       "| 9 | ATL | 2018 |  1.125 |  -2.625 | -5.625 | -1.250 |  7.250 |  0.12500000 |\n",
       "| 10 | ATL | 2019 | -2.750 |  -4.625 | 52.875 |  1.125 | -5.625 | -0.12500000 |\n",
       "\n"
      ],
      "text/plain": [
       "   Team Year delta.RushingAttAvg delta.RushingAvg delta.PassingAvg\n",
       "1  ARI  2015 -5.500              -27.375          -8.375          \n",
       "2  ARI  2016  2.125                9.000          64.875          \n",
       "3  ARI  2017  2.000                9.250          29.625          \n",
       "4  ARI  2018 -1.125                4.500          22.000          \n",
       "5  ARI  2019  0.000               -5.250          -4.875          \n",
       "6  ATL  2015  5.750               23.500          13.500          \n",
       "7  ATL  2016  1.125                8.000          29.250          \n",
       "8  ATL  2017  1.750                9.625          -9.250          \n",
       "9  ATL  2018  1.125               -2.625          -5.625          \n",
       "10 ATL  2019 -2.750               -4.625          52.875          \n",
       "   delta.TurnoverAvg delta.ScoreAvg delta.WinP \n",
       "1   0.000            -4.375         -0.12500000\n",
       "2  -0.750            -1.500          0.19642857\n",
       "3  -0.625             4.875          0.25000000\n",
       "4   0.750            -3.625         -0.12500000\n",
       "5   0.000            -0.625         -0.08928571\n",
       "6   1.000             4.375          0.00000000\n",
       "7  -0.125             2.500         -0.12500000\n",
       "8   0.000             0.875          0.00000000\n",
       "9  -1.250             7.250          0.12500000\n",
       "10  1.125            -5.625         -0.12500000"
      ]
     },
     "metadata": {},
     "output_type": "display_data"
    }
   ],
   "source": [
    "#not sure how to merge all the dataframes together, the rows just duplicate infinitely\n",
    "\n",
    "#temp1 <- merge(rushAttAvg, rushAvg, all=TRUE)\n",
    "#temp2 <- merge(passingAvg, turnoverAvg, all=TRUE) \n",
    "#temp3 <- merge(temp1, temp2, all.x=TRUE, all.y=TRUE)\n",
    "#temp3 <- group_by(temp3, 'Team', 'Year')\n",
    "#temp3\n",
    "#temp3 <- merge(temp2, turnoverAvg, x.all=TRUE) \n",
    "#delta_data <- merge(temp3, scoreAvg, x.all=TRUE) \n",
    "#delta_data\n",
    "\n",
    "#Building the delta dataframe#\n",
    "delta_data <- data.frame(win$Team, win$Year, rushAttAvg$delta.RushingAttAvg, rushAvg$delta.RushingAvg, \n",
    "                         passAvg$delta.PassingAvg, turnoverAvg$delta.TurnoverAvg, scoreAvg$delta.ScoreAvg, win$delta.WinP)\n",
    "names(delta_data)[names(delta_data)== 'win.Team'] <- 'Team'\n",
    "names(delta_data)[names(delta_data)== 'win.Year'] <- 'Year'\n",
    "names(delta_data)[names(delta_data)== 'rushAttAvg.delta.RushingAttAvg'] <- 'delta.RushingAttAvg'\n",
    "names(delta_data)[names(delta_data)== 'rushAvg.delta.RushingAvg'] <- 'delta.RushingAvg'\n",
    "names(delta_data)[names(delta_data)== 'passAvg.delta.PassingAvg'] <- 'delta.PassingAvg'\n",
    "names(delta_data)[names(delta_data)== 'turnoverAvg.delta.TurnoverAvg'] <- 'delta.TurnoverAvg'\n",
    "names(delta_data)[names(delta_data)== 'scoreAvg.delta.ScoreAvg'] <- 'delta.ScoreAvg'\n",
    "names(delta_data)[names(delta_data)== 'win.delta.WinP'] <- 'delta.WinP'\n",
    "head(delta_data, 10)"
   ]
  },
  {
   "cell_type": "markdown",
   "metadata": {},
   "source": [
    "</br>\n",
    "\n",
    "With the revised dataset containing our \"delta values\", we will conduct hypothesis tests (specifically one proportion z-tests) on the each of metrics in question. </br>"
   ]
  },
  {
   "cell_type": "markdown",
   "metadata": {},
   "source": [
    "1 - Rushing Attempts Hypothesis Test: <br>\n",
    "delta.RushingAttAvg = difference in mean rushing attempts in home games and away games for a given team (defined as a specific team in a specific season).\n",
    " - $H_0$: delta.RushingAttAvg = 0\n",
    " - $H_A$: delta.RushingAttAvg ≠ 0 <br>\n",
    " \n",
    "Test statistic: the sample mean $\\bar{x}$"
   ]
  },
  {
   "cell_type": "code",
   "execution_count": 48,
   "metadata": {},
   "outputs": [
    {
     "name": "stdout",
     "output_type": "stream",
     "text": [
      "p-value: 2e-04"
     ]
    },
    {
     "data": {
      "image/png": "[encoded data removed]",
      "text/plain": [
       "plot without title"
      ]
     },
     "metadata": {
      "image/png": {
       "height": 420,
       "width": 420
      }
     },
     "output_type": "display_data"
    }
   ],
   "source": [
    "set.seed(2022)\n",
    "#Observed test statistic\n",
    "obs_test_stat_delta.RushingAttAvg <- mean(delta_data$delta.RushingAttAvg)\n",
    "\n",
    "#Create sampling bootstrap and null model\n",
    "null_model_delta.RushingAttAvg <- delta_data %>% \n",
    "    specify(response = delta.RushingAttAvg) %>% \n",
    "    hypothesise(null = \"point\", mu = 0) %>% \n",
    "    generate(type = \"bootstrap\", reps = 10000) %>% \n",
    "    calculate(stat = \"mean\")\n",
    "\n",
    "#Visualizing null model\n",
    "vis_null_model_delta.RushingAttAvg <- null_model_delta.RushingAttAvg %>% \n",
    "    visualize() + \n",
    "    shade_p_value(obs_stat = obs_test_stat_delta.RushingAttAvg, direction = \"two-sided\") +\n",
    "    xlab(\"Mean Delta Rushing Attempt\") + \n",
    "    ggtitle(\"Simulated Null Distribution\", subtitle = \"Rushing Attempt\") +\n",
    "    theme(plot.title = element_text(size = 20, face = \"bold\")) +\n",
    "    theme(text = element_text(size = 20))\n",
    "vis_null_model_delta.PassingAvg\n",
    "\n",
    "#Calculate p-value\n",
    "p_value_delta.RushingAttAvg <- null_model_delta.RushingAttAvg %>% \n",
    "    get_p_value(obs_stat = obs_test_stat_delta.RushingAttAvg, direction = \"two-sided\")\n",
    "cat(\"p-value:\", p_value_delta.PassingAvg$p_value)"
   ]
  },
  {
   "cell_type": "markdown",
   "metadata": {},
   "source": [
    "p-value: 0.0002 </br>\n",
    "Significance Level: 0.05 </br>\n",
    "Decision: $H_0$ should be rejected. </br>\n",
    "</br>"
   ]
  },
  {
   "cell_type": "markdown",
   "metadata": {},
   "source": [
    "2 - Rushing Average Yards Hypothesis Test: <br>\n",
    "Delta Rushing Average Yards = difference in mean rushing yards in home games and away games for a given team (defined as a specific team in a specific season).\n",
    " - $H_0$: Delta Rushing Average Yards = 0\n",
    " - $H_A$: Delta Rushing Average Yards ≠ 0 <br>\n",
    " \n",
    "Test statistic: the sample mean $\\bar{x}$"
   ]
  },
  {
   "cell_type": "code",
   "execution_count": 52,
   "metadata": {},
   "outputs": [
    {
     "name": "stdout",
     "output_type": "stream",
     "text": [
      "p-value: 4e-04"
     ]
    },
    {
     "data": {
      "image/png": "[encoded data removed]",
      "text/plain": [
       "plot without title"
      ]
     },
     "metadata": {
      "image/png": {
       "height": 420,
       "width": 420
      }
     },
     "output_type": "display_data"
    }
   ],
   "source": [
    "set.seed(2022)\n",
    "#Observed test statistic\n",
    "obs_test_stat_delta.RushingAvg <- mean(delta_data$delta.RushingAvg)\n",
    "\n",
    "#Create sampling bootstrap and null model\n",
    "null_model_delta.RushingAvg <- delta_data %>% \n",
    "    specify(response = delta.RushingAvg) %>% \n",
    "    hypothesise(null = \"point\", mu = 0) %>% \n",
    "    generate(type = \"bootstrap\", reps = 10000) %>% \n",
    "    calculate(stat = \"mean\")\n",
    "\n",
    "#Visualizing null model\n",
    "vis_null_model_delta.RushingAvg <- null_model_delta.RushingAvg %>% \n",
    "    visualize() + \n",
    "    shade_p_value(obs_stat = obs_test_stat_delta.RushingAvg, direction = \"two-sided\") +\n",
    "    xlab(\"Mean Delta Rushing Yards\") + \n",
    "    ggtitle(\"Simulated Null Distribution\", subtitle = \"Rushing Yards\") +\n",
    "    theme(plot.title = element_text(size = 20, face = \"bold\")) +\n",
    "    theme(text = element_text(size = 20))\n",
    "vis_null_model_delta.PassingAvg\n",
    "\n",
    "#Calculate p-value\n",
    "p_value_delta.RushingAvg <- null_model_delta.RushingAvg %>% \n",
    "    get_p_value(obs_stat = obs_test_stat_delta.RushingAvg, direction = \"two-sided\")\n",
    "cat(\"p-value:\", p_value_delta.RushingAvg$p_value)"
   ]
  },
  {
   "cell_type": "markdown",
   "metadata": {},
   "source": [
    "p-value: 0.0002 </br>\n",
    "Significance Level: 0.05 </br>\n",
    "Decision: $H_0$ should be rejected. </br>\n",
    "</br>"
   ]
  },
  {
   "cell_type": "code",
   "execution_count": 53,
   "metadata": {},
   "outputs": [
    {
     "name": "stdout",
     "output_type": "stream",
     "text": [
      "p-value: 2e-04"
     ]
    },
    {
     "data": {
      "image/png": "[encoded data removed]",
      "text/plain": [
       "plot without title"
      ]
     },
     "metadata": {
      "image/png": {
       "height": 420,
       "width": 420
      }
     },
     "output_type": "display_data"
    }
   ],
   "source": [
    "set.seed(2022)\n",
    "#Observed test statistic\n",
    "obs_test_stat_delta.PassingAvg <- mean(delta_data$delta.PassingAvg)\n",
    "\n",
    "#Create sampling bootstrap and null model\n",
    "null_model_delta.PassingAvg <- delta_data %>% \n",
    "    specify(response = delta.PassingAvg) %>% \n",
    "    hypothesise(null = \"point\", mu = 0) %>% \n",
    "    generate(type = \"bootstrap\", reps = 10000) %>% \n",
    "    calculate(stat = \"mean\")\n",
    "\n",
    "#Visualizing null model\n",
    "vis_null_model_delta.PassingAvg <- null_model_delta.PassingAvg %>% \n",
    "    visualize() + \n",
    "    shade_p_value(obs_stat = obs_test_stat_delta.PassingAvg, direction = \"two-sided\") +\n",
    "    xlab(\"Mean Delta Passing Yards\") + \n",
    "    ggtitle(\"Simulated Null Distribution\", subtitle = \"Passing Yards\") +\n",
    "    theme(plot.title = element_text(size = 20, face = \"bold\")) +\n",
    "    theme(text = element_text(size = 20))\n",
    "vis_null_model_delta.PassingAvg\n",
    "\n",
    "#Calculate p-value\n",
    "p_value_delta.PassingAvg <- null_model_delta.PassingAvg %>% \n",
    "    get_p_value(obs_stat = obs_test_stat_delta.PassingAvg, direction = \"two-sided\")\n",
    "cat(\"p-value:\", p_value_delta.PassingAvg$p_value)"
   ]
  },
  {
   "cell_type": "markdown",
   "metadata": {
    "tags": []
   },
   "source": [
    "\n",
    "\n",
    "\n",
    "## Discussion\n",
    "\n",
    "We expect home advantage to significantly affect teams’ capabilities (significantly different mean passing yards, mean rushing yards, etc.) and potentially observe home performances better than away performances.\n",
    "<br>\n",
    "\n",
    "The results of the findings could help gauge the real effects of the home field advantage in the NFL. Further conclusions could also unveil whether modern NFL teams can adapt to playing away games more effectively than the past. These results may motivate speculations on calculating betting odds and win probabilities for fantasy teams services.  \n",
    "\n",
    "\n",
    "Can the result of this report be observed in other metrics that reflect team performance? <br>\n",
    "Could similar findings also be observed in other professional sports? <br>\n",
    "Is there a particular extraneous factor that is the primary cause of home advantage (ex. crowd participation)?\n"
   ]
  },
  {
   "cell_type": "markdown",
   "metadata": {},
   "source": [
    "## References\n",
    "Cosentino, D. (2021, November 5). Does home-field advantage still exist in the NFL? theScore.com. Retrieved March 5, 2022, from https://www.thescore.com/nfl/news/2206259 <br><br>\n",
    "Gough, C. (2021, March 1). U.S. major sports: Average attendance 2019. Statista. Retrieved March 5, 2022, from https://www.statista.com/statistics/207458/per-game-attendance-of-major-us-sports-leagues/ <br><br>\n",
    "McGee, B. (2017, September 29). Green Bay Packers home-field advantage; Lambeau Breeds Champions in Titletown. Bleacher Report. Retrieved March 5, 2022, from https://bleacherreport.com/articles/824522-green-bay-packers-home-field-%09advantage-lambeau-breeds-champions-in-titletown <br><br>\n",
    "Panayotovich, S. (2021, September 23). NFL odds: How much is home-field advantage really worth on the spread? FOX Sports. Retrieved March 5, 2022, from https://www.foxsports.com/stories/nfl/nfl-odds-how-much-home-field-advantage-worth-spread <br><br>\n",
    "Sasser, D. (2021, January 25). NFL Game Stats (2010-2019). Kaggle. Retrieved March 5, 2022, from https://www.kaggle.com/davidsasser/nfl-game-stats-20102019 <br><br>"
   ]
  }
 ],
 "metadata": {
  "kernelspec": {
   "display_name": "R",
   "language": "R",
   "name": "ir"
  },
  "language_info": {
   "codemirror_mode": "r",
   "file_extension": ".r",
   "mimetype": "text/x-r-source",
   "name": "R",
   "pygments_lexer": "r",
   "version": "4.1.2"
  }
 },
 "nbformat": 4,
 "nbformat_minor": 4
}
