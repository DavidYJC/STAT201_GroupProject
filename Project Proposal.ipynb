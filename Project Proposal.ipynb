{
 "cells": [
  {
   "cell_type": "markdown",
   "metadata": {},
   "source": [
    "# Title\n",
    "\n",
    "\n",
    "## Introduction\n",
    "\n",
    "\n",
    "**Thesis**\n",
    "\n"
   ]
  },
  {
   "cell_type": "markdown",
   "metadata": {},
   "source": [
    "## Preliminary Exploratory Data Analysis\n",
    "\n",
    "The data set is first loaded in directly from the online database, then tidied and organized by grouping similar categorical variables into a single variable. "
   ]
  },
  {
   "cell_type": "code",
   "execution_count": 24,
   "metadata": {},
   "outputs": [
    {
     "name": "stderr",
     "output_type": "stream",
     "text": [
      "Installing package into ‘/home/jupyter/R/x86_64-pc-linux-gnu-library/4.1’\n",
      "(as ‘lib’ is unspecified)\n",
      "\n"
     ]
    }
   ],
   "source": [
    "install.packages('tidyverse')"
   ]
  },
  {
   "cell_type": "code",
   "execution_count": 50,
   "metadata": {},
   "outputs": [],
   "source": [
    "# Load necessary packages\n",
    "library(tidyverse)\n",
    "\n",
    "# Downloaded dataset from https://www.kaggle.com/davidsasser/nfl-game-stats-20102019/download\n",
    "nfl_2015 <- read_csv('https://drive.google.com/u/0/uc?id=190TJIdeGAn35LYTkuLiNljLC_UdvFPI6&export=download', show_col_types=FALSE)\n",
    "nfl_2016 <- read_csv('https://drive.google.com/u/0/uc?id=1MzBKQAow-lSygJzvraebnjwKTl4RIAC4&export=download', show_col_types=FALSE)\n",
    "nfl_2017 <- read_csv('https://drive.google.com/u/0/uc?id=1UsXj9jItQik0UXbeCtnzQ7ES3GoZepiy&export=download', show_col_types=FALSE)\n",
    "nfl_2018 <- read_csv('https://drive.google.com/u/0/uc?id=1UqvsJYxQ0NHPApWSSWKvtVguaTH2PnGl&export=download', show_col_types=FALSE)\n",
    "nfl_2019 <- read_csv('https://drive.google.com/u/0/uc?id=1EVGagzG12fsneqmVTWk5SwbJqi59RoD4&export=download', show_col_types=FALSE)"
   ]
  },
  {
   "cell_type": "code",
   "execution_count": 51,
   "metadata": {},
   "outputs": [
    {
     "data": {
      "text/html": [
       "<table class=\"dataframe\">\n",
       "<caption>A grouped_df: 6 × 14</caption>\n",
       "<thead>\n",
       "\t<tr><th scope=col>Year</th><th scope=col>Week</th><th scope=col>HomeTeam</th><th scope=col>AwayTeam</th><th scope=col>H-RushAtt</th><th scope=col>H-RushYards</th><th scope=col>H-PassYards</th><th scope=col>H-Turnover</th><th scope=col>H-Score</th><th scope=col>A-RushAtt</th><th scope=col>A-RushYards</th><th scope=col>A-PassYards</th><th scope=col>A-Turnover</th><th scope=col>A-Score</th></tr>\n",
       "\t<tr><th scope=col>&lt;dbl&gt;</th><th scope=col>&lt;dbl&gt;</th><th scope=col>&lt;chr&gt;</th><th scope=col>&lt;chr&gt;</th><th scope=col>&lt;dbl&gt;</th><th scope=col>&lt;dbl&gt;</th><th scope=col>&lt;dbl&gt;</th><th scope=col>&lt;dbl&gt;</th><th scope=col>&lt;dbl&gt;</th><th scope=col>&lt;dbl&gt;</th><th scope=col>&lt;dbl&gt;</th><th scope=col>&lt;dbl&gt;</th><th scope=col>&lt;dbl&gt;</th><th scope=col>&lt;dbl&gt;</th></tr>\n",
       "</thead>\n",
       "<tbody>\n",
       "\t<tr><td>2015</td><td>1</td><td>NWE</td><td>PIT</td><td>24</td><td> 80</td><td>288</td><td>0</td><td>28</td><td>25</td><td>134</td><td>351</td><td>1</td><td>21</td></tr>\n",
       "\t<tr><td>2015</td><td>1</td><td>BUF</td><td>IND</td><td>36</td><td>147</td><td>195</td><td>0</td><td>27</td><td>17</td><td> 64</td><td>243</td><td>3</td><td>14</td></tr>\n",
       "\t<tr><td>2015</td><td>1</td><td>CHI</td><td>GNB</td><td>33</td><td>189</td><td>225</td><td>1</td><td>23</td><td>30</td><td>133</td><td>189</td><td>0</td><td>31</td></tr>\n",
       "\t<tr><td>2015</td><td>1</td><td>ARI</td><td>NOR</td><td>25</td><td>120</td><td>307</td><td>1</td><td>31</td><td>20</td><td> 54</td><td>355</td><td>1</td><td>19</td></tr>\n",
       "\t<tr><td>2015</td><td>1</td><td>DAL</td><td>NYG</td><td>23</td><td> 80</td><td>356</td><td>3</td><td>27</td><td>24</td><td> 99</td><td>189</td><td>0</td><td>26</td></tr>\n",
       "\t<tr><td>2015</td><td>1</td><td>DEN</td><td>BAL</td><td>25</td><td> 69</td><td>175</td><td>1</td><td>19</td><td>23</td><td> 73</td><td>117</td><td>2</td><td>13</td></tr>\n",
       "</tbody>\n",
       "</table>\n"
      ],
      "text/latex": [
       "A grouped\\_df: 6 × 14\n",
       "\\begin{tabular}{llllllllllllll}\n",
       " Year & Week & HomeTeam & AwayTeam & H-RushAtt & H-RushYards & H-PassYards & H-Turnover & H-Score & A-RushAtt & A-RushYards & A-PassYards & A-Turnover & A-Score\\\\\n",
       " <dbl> & <dbl> & <chr> & <chr> & <dbl> & <dbl> & <dbl> & <dbl> & <dbl> & <dbl> & <dbl> & <dbl> & <dbl> & <dbl>\\\\\n",
       "\\hline\n",
       "\t 2015 & 1 & NWE & PIT & 24 &  80 & 288 & 0 & 28 & 25 & 134 & 351 & 1 & 21\\\\\n",
       "\t 2015 & 1 & BUF & IND & 36 & 147 & 195 & 0 & 27 & 17 &  64 & 243 & 3 & 14\\\\\n",
       "\t 2015 & 1 & CHI & GNB & 33 & 189 & 225 & 1 & 23 & 30 & 133 & 189 & 0 & 31\\\\\n",
       "\t 2015 & 1 & ARI & NOR & 25 & 120 & 307 & 1 & 31 & 20 &  54 & 355 & 1 & 19\\\\\n",
       "\t 2015 & 1 & DAL & NYG & 23 &  80 & 356 & 3 & 27 & 24 &  99 & 189 & 0 & 26\\\\\n",
       "\t 2015 & 1 & DEN & BAL & 25 &  69 & 175 & 1 & 19 & 23 &  73 & 117 & 2 & 13\\\\\n",
       "\\end{tabular}\n"
      ],
      "text/markdown": [
       "\n",
       "A grouped_df: 6 × 14\n",
       "\n",
       "| Year &lt;dbl&gt; | Week &lt;dbl&gt; | HomeTeam &lt;chr&gt; | AwayTeam &lt;chr&gt; | H-RushAtt &lt;dbl&gt; | H-RushYards &lt;dbl&gt; | H-PassYards &lt;dbl&gt; | H-Turnover &lt;dbl&gt; | H-Score &lt;dbl&gt; | A-RushAtt &lt;dbl&gt; | A-RushYards &lt;dbl&gt; | A-PassYards &lt;dbl&gt; | A-Turnover &lt;dbl&gt; | A-Score &lt;dbl&gt; |\n",
       "|---|---|---|---|---|---|---|---|---|---|---|---|---|---|\n",
       "| 2015 | 1 | NWE | PIT | 24 |  80 | 288 | 0 | 28 | 25 | 134 | 351 | 1 | 21 |\n",
       "| 2015 | 1 | BUF | IND | 36 | 147 | 195 | 0 | 27 | 17 |  64 | 243 | 3 | 14 |\n",
       "| 2015 | 1 | CHI | GNB | 33 | 189 | 225 | 1 | 23 | 30 | 133 | 189 | 0 | 31 |\n",
       "| 2015 | 1 | ARI | NOR | 25 | 120 | 307 | 1 | 31 | 20 |  54 | 355 | 1 | 19 |\n",
       "| 2015 | 1 | DAL | NYG | 23 |  80 | 356 | 3 | 27 | 24 |  99 | 189 | 0 | 26 |\n",
       "| 2015 | 1 | DEN | BAL | 25 |  69 | 175 | 1 | 19 | 23 |  73 | 117 | 2 | 13 |\n",
       "\n"
      ],
      "text/plain": [
       "  Year Week HomeTeam AwayTeam H-RushAtt H-RushYards H-PassYards H-Turnover\n",
       "1 2015 1    NWE      PIT      24         80         288         0         \n",
       "2 2015 1    BUF      IND      36        147         195         0         \n",
       "3 2015 1    CHI      GNB      33        189         225         1         \n",
       "4 2015 1    ARI      NOR      25        120         307         1         \n",
       "5 2015 1    DAL      NYG      23         80         356         3         \n",
       "6 2015 1    DEN      BAL      25         69         175         1         \n",
       "  H-Score A-RushAtt A-RushYards A-PassYards A-Turnover A-Score\n",
       "1 28      25        134         351         1          21     \n",
       "2 27      17         64         243         3          14     \n",
       "3 23      30        133         189         0          31     \n",
       "4 31      20         54         355         1          19     \n",
       "5 27      24         99         189         0          26     \n",
       "6 19      23         73         117         2          13     "
      ]
     },
     "metadata": {},
     "output_type": "display_data"
    }
   ],
   "source": [
    "# Tidy data\n",
    "nfl_data <- rbind(nfl_2015, nfl_2016, nfl_2017, nfl_2018, nfl_2019)\n",
    "nfl_data <- nfl_data %>%\n",
    "    subset(select=-c(Result, Total)) %>%\n",
    "    group_by(Week)\n",
    "head(nfl_data)"
   ]
  },
  {
   "cell_type": "markdown",
   "metadata": {},
   "source": [
    "## Analysis Methods\n",
    "\n",
    "\n",
    "## Expected Outcomes and Significance\n",
    "\n",
    "What do you expect to find?\n",
    "\n",
    "What impact could such findings have?\n",
    "\n",
    "What future questions could this lead to?\n",
    "\n",
    "\n",
    "## References"
   ]
  },
  {
   "cell_type": "code",
   "execution_count": null,
   "metadata": {},
   "outputs": [],
   "source": []
  }
 ],
 "metadata": {
  "kernelspec": {
   "display_name": "R",
   "language": "R",
   "name": "ir"
  },
  "language_info": {
   "codemirror_mode": "r",
   "file_extension": ".r",
   "mimetype": "text/x-r-source",
   "name": "R",
   "pygments_lexer": "r",
   "version": "4.1.2"
  }
 },
 "nbformat": 4,
 "nbformat_minor": 4
}
