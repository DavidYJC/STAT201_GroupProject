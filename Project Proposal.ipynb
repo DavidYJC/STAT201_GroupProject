{
 "cells": [
  {
   "cell_type": "markdown",
   "metadata": {},
   "source": [
    "# Title\n",
    "\n",
    "\n",
    "## Introduction\n",
    "\n",
    "\n",
    "**Thesis**\n",
    "\n"
   ]
  },
  {
   "cell_type": "markdown",
   "metadata": {},
   "source": [
    "## Preliminary Exploratory Data Analysis\n",
    "\n",
    "The data set is first loaded in directly from the online database, then tidied and organized by grouping similar categorical variables into a single variable. "
   ]
  },
  {
   "cell_type": "code",
   "execution_count": 24,
   "metadata": {},
   "outputs": [
    {
     "name": "stderr",
     "output_type": "stream",
     "text": [
      "Installing package into ‘/home/jupyter/R/x86_64-pc-linux-gnu-library/4.1’\n",
      "(as ‘lib’ is unspecified)\n",
      "\n"
     ]
    }
   ],
   "source": [
    "install.packages('tidyverse')"
   ]
  },
  {
   "cell_type": "code",
   "execution_count": 27,
   "metadata": {},
   "outputs": [
    {
     "ename": "ERROR",
     "evalue": "Error in open.connection(structure(13L, class = c(\"curl\", \"connection\": HTTP error 404.\n",
     "output_type": "error",
     "traceback": [
      "Error in open.connection(structure(13L, class = c(\"curl\", \"connection\": HTTP error 404.\nTraceback:\n",
      "1. read_tsv(\"https://drive.google.com/u/0/uc?id=1MzBKQAow-lSygJzvraebnjwKTl4RIAC4&export=download\")",
      "2. vroom::vroom(file, delim = \"\\t\", col_names = col_names, col_types = col_types, \n .     col_select = {\n .         {\n .             col_select\n .         }\n .     }, id = id, .name_repair = name_repair, skip = skip, n_max = n_max, \n .     na = na, quote = quote, comment = comment, skip_empty_rows = skip_empty_rows, \n .     trim_ws = trim_ws, escape_double = TRUE, escape_backslash = FALSE, \n .     locale = locale, guess_max = guess_max, show_col_types = show_col_types, \n .     progress = progress, altrep = lazy, num_threads = num_threads)",
      "3. vroom_(file, delim = delim %||% col_types$delim, col_names = col_names, \n .     col_types = col_types, id = id, skip = skip, col_select = col_select, \n .     name_repair = .name_repair, na = na, quote = quote, trim_ws = trim_ws, \n .     escape_double = escape_double, escape_backslash = escape_backslash, \n .     comment = comment, skip_empty_rows = skip_empty_rows, locale = locale, \n .     guess_max = guess_max, n_max = n_max, altrep = vroom_altrep(altrep), \n .     num_threads = num_threads, progress = progress)",
      "4. (function (con, ...) \n . UseMethod(\"open\"))(structure(13L, class = c(\"curl\", \"connection\"\n . ), conn_id = <pointer: 0x3bb>), \"rb\")",
      "5. open.connection(structure(13L, class = c(\"curl\", \"connection\"\n . ), conn_id = <pointer: 0x3bb>), \"rb\")"
     ]
    }
   ],
   "source": [
    "# Load necessary packages\n",
    "library(tidyverse)\n",
    "\n",
    "# Downloaded dataset\n",
    "#url <- \"https://www.kaggle.com/davidsasser/nfl-game-stats-20102019/download\"\n",
    "#temp <- tempfile()\n",
    "#download.file(url,temp)\n",
    "#nfl_2015 <- read_csv('https://drive.google.com/u/0/uc?id=190TJIdeGAn35LYTkuLiNljLC_UdvFPI6&export=download', col_names=TRUE)\n",
    "nfl_2016 <- read_tsv('https://drive.google.com/u/0/uc?id=1MzBKQAow-lSygJzvraebnjwKTl4RIAC4&export=download')\n",
    "#nfl_2017 <- read_csv(unz(temp, \"game_stats_2017.csv\"))\n",
    "#nfl_2018 <- read_csv(unz(temp, \"game_stats_2018.csv\"))\n",
    "#nfl_2019 <- read_csv(unz(temp, \"game_stats_2019.csv\"))\n",
    "#unlink(temp)\n",
    "\n",
    "# Tidy data\n"
   ]
  },
  {
   "cell_type": "markdown",
   "metadata": {},
   "source": [
    "## Analysis Methods\n",
    "\n",
    "\n",
    "## Expected Outcomes and Significance\n",
    "\n",
    "What do you expect to find?\n",
    "\n",
    "What impact could such findings have?\n",
    "\n",
    "What future questions could this lead to?\n",
    "\n",
    "\n",
    "## References"
   ]
  },
  {
   "cell_type": "code",
   "execution_count": null,
   "metadata": {},
   "outputs": [],
   "source": []
  }
 ],
 "metadata": {
  "kernelspec": {
   "display_name": "R",
   "language": "R",
   "name": "ir"
  },
  "language_info": {
   "codemirror_mode": "r",
   "file_extension": ".r",
   "mimetype": "text/x-r-source",
   "name": "R",
   "pygments_lexer": "r",
   "version": "4.1.2"
  }
 },
 "nbformat": 4,
 "nbformat_minor": 4
}
