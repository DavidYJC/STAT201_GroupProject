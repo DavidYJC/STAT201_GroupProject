{
 "cells": [
  {
   "cell_type": "markdown",
   "metadata": {},
   "source": [
    "# Title\n",
    "\n",
    "\n",
    "## Introduction\n",
    "\n",
    "\n",
    "**Thesis**\n",
    "\n"
   ]
  },
  {
   "cell_type": "markdown",
   "metadata": {},
   "source": [
    "## Preliminary Exploratory Data Analysis\n",
    "\n",
    "The data set is first loaded in directly from the online database, then tidied and organized by grouping similar categorical variables into a single variable. "
   ]
  },
  {
   "cell_type": "code",
   "execution_count": null,
   "metadata": {},
   "outputs": [],
   "source": [
    "# Load necessary packages\n",
    "\n",
    "\n",
    "# Downloaded dataset\n",
    "url <- \"https://archive.ics.uci.edu/ml/machine-learning-databases/00332/OnlineNewsPopularity.zip\"\n",
    "temp <- tempfile()\n",
    "download.file(url,temp)\n",
    "news_data <- read_csv(unz(temp, \"OnlineNewsPopularity/OnlineNewsPopularity.csv\"))\n",
    "unlink(temp)\n",
    "\n",
    "# Tidy data\n"
   ]
  },
  {
   "cell_type": "markdown",
   "metadata": {},
   "source": [
    "## Analysis Methods\n",
    "\n",
    "\n",
    "## Expected Outcomes and Significance\n",
    "\n",
    "What do you expect to find?\n",
    "\n",
    "What impact could such findings have?\n",
    "\n",
    "What future questions could this lead to?\n",
    "\n",
    "\n",
    "## References"
   ]
  },
  {
   "cell_type": "code",
   "execution_count": null,
   "metadata": {},
   "outputs": [],
   "source": []
  }
 ],
 "metadata": {
  "kernelspec": {
   "display_name": "R",
   "language": "R",
   "name": "ir"
  },
  "language_info": {
   "codemirror_mode": "r",
   "file_extension": ".r",
   "mimetype": "text/x-r-source",
   "name": "R",
   "pygments_lexer": "r",
   "version": "4.0.0"
  }
 },
 "nbformat": 4,
 "nbformat_minor": 4
}
